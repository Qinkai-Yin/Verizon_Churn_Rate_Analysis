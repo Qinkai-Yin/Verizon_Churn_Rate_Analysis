{
 "cells": [
  {
   "cell_type": "code",
   "execution_count": 1,
   "id": "6b3d5443",
   "metadata": {},
   "outputs": [],
   "source": [
    "import joblib\n",
    "import pandas as pd\n",
    "from sklearn.metrics import classification_report"
   ]
  },
  {
   "cell_type": "code",
   "execution_count": 3,
   "id": "96196bbf",
   "metadata": {},
   "outputs": [],
   "source": [
    "# 1. Load the saved model\n",
    "model = joblib.load(\"Verizon_lightgbm_model.pkl\")"
   ]
  },
  {
   "cell_type": "code",
   "execution_count": 23,
   "id": "f1fbd9f6",
   "metadata": {},
   "outputs": [],
   "source": [
    "df = pd.read_csv('data/Model_test.csv')\n",
    "# 2. Filter & drop unnecessary columns\n",
    "df = df[df[\"age\"] != 0]  # optional filter\n",
    "y_true = df[\"True default\"]  # save true label before dropping\n",
    "df = df.drop(columns=[\"year\", \"day\", \"True default\"])\n",
    "\n",
    "# 3. One-hot encode (same as training)\n",
    "df_encoded = pd.get_dummies(df, columns=[\"gender\", \"pmttype\"], drop_first=True)"
   ]
  },
  {
   "cell_type": "code",
   "execution_count": 24,
   "id": "da35e4e7",
   "metadata": {},
   "outputs": [
    {
     "data": {
      "text/plain": [
       "(18, 12)"
      ]
     },
     "execution_count": 24,
     "metadata": {},
     "output_type": "execute_result"
    }
   ],
   "source": [
    "df_encoded.shape"
   ]
  },
  {
   "cell_type": "code",
   "execution_count": 25,
   "id": "fee0ccb8",
   "metadata": {},
   "outputs": [],
   "source": [
    "y_pred = model.predict(df_encoded)\n",
    "y_prob = model.predict_proba(df_encoded)[:, 1]"
   ]
  },
  {
   "cell_type": "code",
   "execution_count": 29,
   "id": "19a5c22d",
   "metadata": {},
   "outputs": [
    {
     "name": "stdout",
     "output_type": "stream",
     "text": [
      "Predicted labels: [0 0 0 0 0 0 0 0 0 0 0 0 0 0 0 0 0 1]\n",
      "Predicted probabilities: [1.26425590e-02 1.68665071e-01 1.84422728e-02 3.86333645e-02\n",
      " 1.43727692e-02 1.35803207e-03 8.93196318e-02 4.00542683e-01\n",
      " 3.50784381e-01 8.09947803e-04 3.85668308e-01 5.21589756e-04\n",
      " 2.68752136e-03 3.62348477e-02 1.31070286e-01 1.32724278e-03\n",
      " 1.64525750e-01 8.82703524e-01]\n"
     ]
    }
   ],
   "source": [
    "print(\"Predicted labels:\", y_pred)\n",
    "print(\"Predicted probabilities:\", y_prob)"
   ]
  }
 ],
 "metadata": {
  "kernelspec": {
   "display_name": "verizon",
   "language": "python",
   "name": "python3"
  },
  "language_info": {
   "codemirror_mode": {
    "name": "ipython",
    "version": 3
   },
   "file_extension": ".py",
   "mimetype": "text/x-python",
   "name": "python",
   "nbconvert_exporter": "python",
   "pygments_lexer": "ipython3",
   "version": "3.12.10"
  }
 },
 "nbformat": 4,
 "nbformat_minor": 5
}
